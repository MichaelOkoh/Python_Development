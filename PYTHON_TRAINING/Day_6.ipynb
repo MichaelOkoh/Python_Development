{
 "cells": [
  {
   "cell_type": "code",
   "execution_count": 1,
   "id": "c0ee6b77",
   "metadata": {},
   "outputs": [
    {
     "name": "stdout",
     "output_type": "stream",
     "text": [
      "10\n",
      "10\n",
      "10\n",
      "10\n",
      "10\n",
      "15\n",
      "15\n"
     ]
    }
   ],
   "source": [
    "# Loops:\n",
    "\n",
    "# for loops:\n",
    "scores = [5,5,5,5,5,10,10]\n",
    "\n",
    "# creating a for loop to iterate score data:\n",
    "\n",
    "for score in scores:\n",
    "    # adding 5 marks to each score and print them:\n",
    "    print(score+5)\n",
    "    "
   ]
  },
  {
   "cell_type": "code",
   "execution_count": 2,
   "id": "23507a09",
   "metadata": {},
   "outputs": [],
   "source": [
    "# alternatively:\n",
    "\n",
    "# for loops:\n",
    "scores = [5,5,5,5,5,10,10]\n",
    "# creating an empty list:\n",
    "new_score = []\n",
    "\n",
    "# creating a for loop to iterate score data\n",
    "for score in scores:\n",
    "    \n",
    "    # appending each score with +5 into new_score:\n",
    "    new_score.append(score+5)\n",
    "    \n",
    "    \n"
   ]
  },
  {
   "cell_type": "code",
   "execution_count": 3,
   "id": "3c2421e0",
   "metadata": {},
   "outputs": [
    {
     "data": {
      "text/plain": [
       "[10, 10, 10, 10, 10, 15, 15]"
      ]
     },
     "execution_count": 3,
     "metadata": {},
     "output_type": "execute_result"
    }
   ],
   "source": [
    "new_score"
   ]
  },
  {
   "cell_type": "code",
   "execution_count": 4,
   "id": "082606d0",
   "metadata": {},
   "outputs": [],
   "source": [
    "# while loops:\n",
    "\n",
    "data = []\n",
    "start = 0\n",
    "\n",
    "# creating a while loop:\n",
    "\n",
    "while start <50:\n",
    "    # importing random:\n",
    "    import random\n",
    "    # appending a random number from 1 - 50:\n",
    "    data.append(random.randrange(1,50))\n",
    "    # incrementing one to start:\n",
    "    start+=1\n",
    "    "
   ]
  },
  {
   "cell_type": "code",
   "execution_count": 5,
   "id": "f714a869",
   "metadata": {},
   "outputs": [
    {
     "data": {
      "text/plain": [
       "[48,\n",
       " 26,\n",
       " 18,\n",
       " 4,\n",
       " 43,\n",
       " 47,\n",
       " 20,\n",
       " 17,\n",
       " 30,\n",
       " 2,\n",
       " 4,\n",
       " 18,\n",
       " 25,\n",
       " 7,\n",
       " 27,\n",
       " 3,\n",
       " 38,\n",
       " 49,\n",
       " 8,\n",
       " 7,\n",
       " 7,\n",
       " 11,\n",
       " 41,\n",
       " 30,\n",
       " 12,\n",
       " 10,\n",
       " 31,\n",
       " 40,\n",
       " 21,\n",
       " 7,\n",
       " 4,\n",
       " 21,\n",
       " 44,\n",
       " 4,\n",
       " 46,\n",
       " 40,\n",
       " 2,\n",
       " 10,\n",
       " 41,\n",
       " 33,\n",
       " 2,\n",
       " 9,\n",
       " 1,\n",
       " 31,\n",
       " 16,\n",
       " 22,\n",
       " 21,\n",
       " 40,\n",
       " 34,\n",
       " 24]"
      ]
     },
     "execution_count": 5,
     "metadata": {},
     "output_type": "execute_result"
    }
   ],
   "source": [
    "data"
   ]
  },
  {
   "cell_type": "code",
   "execution_count": 6,
   "id": "c3c4c6e7",
   "metadata": {},
   "outputs": [
    {
     "data": {
      "text/plain": [
       "50"
      ]
     },
     "execution_count": 6,
     "metadata": {},
     "output_type": "execute_result"
    }
   ],
   "source": [
    "len(data)"
   ]
  },
  {
   "cell_type": "code",
   "execution_count": 8,
   "id": "ed3b665e",
   "metadata": {},
   "outputs": [
    {
     "data": {
      "text/plain": [
       "50"
      ]
     },
     "execution_count": 8,
     "metadata": {},
     "output_type": "execute_result"
    }
   ],
   "source": [
    "start"
   ]
  },
  {
   "cell_type": "code",
   "execution_count": 9,
   "id": "5dc144c3",
   "metadata": {},
   "outputs": [],
   "source": [
    "# while loops:\n",
    "\n",
    "data = []\n",
    "start = 50\n",
    "\n",
    "# creating a while loop:\n",
    "\n",
    "while start!=0:\n",
    "    # importing random:\n",
    "    import random\n",
    "    # appending a random number from 1 - 50:\n",
    "    data.append(random.randrange(1,50))\n",
    "    # decrementing one from start:\n",
    "    start-=1\n",
    "    \n",
    "    "
   ]
  },
  {
   "cell_type": "code",
   "execution_count": 10,
   "id": "e9a66a93",
   "metadata": {},
   "outputs": [
    {
     "data": {
      "text/plain": [
       "[32,\n",
       " 25,\n",
       " 40,\n",
       " 7,\n",
       " 39,\n",
       " 23,\n",
       " 27,\n",
       " 38,\n",
       " 36,\n",
       " 21,\n",
       " 41,\n",
       " 44,\n",
       " 13,\n",
       " 20,\n",
       " 37,\n",
       " 47,\n",
       " 24,\n",
       " 14,\n",
       " 40,\n",
       " 11,\n",
       " 24,\n",
       " 32,\n",
       " 30,\n",
       " 27,\n",
       " 33,\n",
       " 10,\n",
       " 23,\n",
       " 46,\n",
       " 12,\n",
       " 38,\n",
       " 49,\n",
       " 40,\n",
       " 3,\n",
       " 20,\n",
       " 15,\n",
       " 27,\n",
       " 24,\n",
       " 23,\n",
       " 38,\n",
       " 27,\n",
       " 33,\n",
       " 9,\n",
       " 41,\n",
       " 41,\n",
       " 20,\n",
       " 20,\n",
       " 14,\n",
       " 29,\n",
       " 5,\n",
       " 7]"
      ]
     },
     "execution_count": 10,
     "metadata": {},
     "output_type": "execute_result"
    }
   ],
   "source": [
    "data"
   ]
  },
  {
   "cell_type": "code",
   "execution_count": 11,
   "id": "67b90c5e",
   "metadata": {},
   "outputs": [
    {
     "data": {
      "text/plain": [
       "0"
      ]
     },
     "execution_count": 11,
     "metadata": {},
     "output_type": "execute_result"
    }
   ],
   "source": [
    "start"
   ]
  },
  {
   "cell_type": "code",
   "execution_count": 12,
   "id": "54a4c751",
   "metadata": {},
   "outputs": [
    {
     "data": {
      "text/plain": [
       "50"
      ]
     },
     "execution_count": 12,
     "metadata": {},
     "output_type": "execute_result"
    }
   ],
   "source": [
    "len(data)"
   ]
  },
  {
   "cell_type": "code",
   "execution_count": null,
   "id": "88662024",
   "metadata": {},
   "outputs": [],
   "source": [
    "# asignment\n",
    "\n",
    "# a set of 5 students got a high performance of 70 marks and the lecturer wants to deduct 10 marks from each of the student as \n",
    "# a punishment for them using for loops practicalize the lectrurer's action on the 5 student?\n",
    "\n",
    "# A client needs 5 new four digit OTP code as a reset key using while loops generate 5 random 4 digit \n",
    "# OTP code for the client?\n"
   ]
  },
  {
   "cell_type": "code",
   "execution_count": 1,
   "id": "d00ab145",
   "metadata": {},
   "outputs": [
    {
     "name": "stdout",
     "output_type": "stream",
     "text": [
      "60\n",
      "60\n",
      "60\n",
      "60\n",
      "60\n"
     ]
    }
   ],
   "source": [
    "# loops:\n",
    "# creating a loops from a set of 5 students marks:\n",
    "\n",
    "scores = [70,70,70,70,70]\n",
    "\n",
    "for score in scores:\n",
    "    print(score-10)"
   ]
  },
  {
   "cell_type": "code",
   "execution_count": 3,
   "id": "9d38ca15",
   "metadata": {},
   "outputs": [],
   "source": [
    "#loops: \n",
    "# generating 5 new OTP of four digits:\n",
    "\n",
    "data = []\n",
    "#importing Random\n",
    "import random\n",
    "num = random.randrange(1000,9999)\n",
    "data.append(num)"
   ]
  },
  {
   "cell_type": "code",
   "execution_count": 4,
   "id": "188aadbc",
   "metadata": {},
   "outputs": [
    {
     "data": {
      "text/plain": [
       "[7115]"
      ]
     },
     "execution_count": 4,
     "metadata": {},
     "output_type": "execute_result"
    }
   ],
   "source": [
    "data"
   ]
  },
  {
   "cell_type": "code",
   "execution_count": null,
   "id": "d4579d1c",
   "metadata": {},
   "outputs": [],
   "source": []
  }
 ],
 "metadata": {
  "kernelspec": {
   "display_name": "Python 3 (ipykernel)",
   "language": "python",
   "name": "python3"
  },
  "language_info": {
   "codemirror_mode": {
    "name": "ipython",
    "version": 3
   },
   "file_extension": ".py",
   "mimetype": "text/x-python",
   "name": "python",
   "nbconvert_exporter": "python",
   "pygments_lexer": "ipython3",
   "version": "3.9.7"
  }
 },
 "nbformat": 4,
 "nbformat_minor": 5
}
