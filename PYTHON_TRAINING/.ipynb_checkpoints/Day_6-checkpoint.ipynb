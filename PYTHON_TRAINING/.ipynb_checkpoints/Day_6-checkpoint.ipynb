{
 "cells": [
  {
   "cell_type": "code",
   "execution_count": 1,
   "id": "585f0791",
   "metadata": {},
   "outputs": [
    {
     "name": "stdout",
     "output_type": "stream",
     "text": [
      "10\n",
      "10\n",
      "10\n",
      "10\n",
      "10\n",
      "15\n",
      "15\n"
     ]
    }
   ],
   "source": [
    "# Loops:\n",
    "\n",
    "# for loops:\n",
    "scores = [5,5,5,5,5,10,10]\n",
    "\n",
    "for score in scores:\n",
    "    print(score+5)\n",
    "    "
   ]
  },
  {
   "cell_type": "code",
   "execution_count": 2,
   "id": "6523c734",
   "metadata": {},
   "outputs": [],
   "source": [
    "# alternatively:\n",
    "\n",
    "# for loops:\n",
    "scores = [5,5,5,5,5,10,10]\n",
    "# creating an empty list:\n",
    "new_score = []\n",
    "\n",
    "# creating a for loop to iterate score data\n",
    "for score in scores:\n",
    "    \n",
    "    # appending each score with +5 into new_score:\n",
    "    new_score.append(score+5)\n",
    "    \n",
    "    \n"
   ]
  },
  {
   "cell_type": "code",
   "execution_count": 3,
   "id": "f75c2ba4",
   "metadata": {},
   "outputs": [
    {
     "data": {
      "text/plain": [
       "[10, 10, 10, 10, 10, 15, 15]"
      ]
     },
     "execution_count": 3,
     "metadata": {},
     "output_type": "execute_result"
    }
   ],
   "source": [
    "new_score"
   ]
  },
  {
   "cell_type": "code",
   "execution_count": null,
   "id": "06b61864",
   "metadata": {},
   "outputs": [],
   "source": []
  }
 ],
 "metadata": {
  "kernelspec": {
   "display_name": "Python 3 (ipykernel)",
   "language": "python",
   "name": "python3"
  },
  "language_info": {
   "codemirror_mode": {
    "name": "ipython",
    "version": 3
   },
   "file_extension": ".py",
   "mimetype": "text/x-python",
   "name": "python",
   "nbconvert_exporter": "python",
   "pygments_lexer": "ipython3",
   "version": "3.9.7"
  }
 },
 "nbformat": 4,
 "nbformat_minor": 5
}
