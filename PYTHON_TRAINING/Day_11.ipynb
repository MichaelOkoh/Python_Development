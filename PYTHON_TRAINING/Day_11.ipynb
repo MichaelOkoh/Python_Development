{
 "cells": [
  {
   "cell_type": "code",
   "execution_count": null,
   "id": "7402123e",
   "metadata": {},
   "outputs": [],
   "source": [
    "# Class: Objject oriented programming:"
   ]
  },
  {
   "cell_type": "code",
   "execution_count": 3,
   "id": "30b4f14e",
   "metadata": {},
   "outputs": [],
   "source": [
    "class cats:\n",
    "    # create class attributes:\n",
    "    # this help to create a class attribute\n",
    "    def __init__ (self,name, food,tail):\n",
    "        self.name = name\n",
    "        self.food = food\n",
    "        self.tail = tail\n",
    "    "
   ]
  },
  {
   "cell_type": "code",
   "execution_count": 4,
   "id": "81c90c31",
   "metadata": {},
   "outputs": [],
   "source": [
    "tig = cats(name=\"tiger\", food = \"canivore\",tail= \"20cm\") "
   ]
  },
  {
   "cell_type": "code",
   "execution_count": 5,
   "id": "d8651ee9",
   "metadata": {},
   "outputs": [
    {
     "data": {
      "text/plain": [
       "'tiger'"
      ]
     },
     "execution_count": 5,
     "metadata": {},
     "output_type": "execute_result"
    }
   ],
   "source": [
    "tig.name"
   ]
  },
  {
   "cell_type": "code",
   "execution_count": 6,
   "id": "be593acf",
   "metadata": {},
   "outputs": [
    {
     "data": {
      "text/plain": [
       "'canivore'"
      ]
     },
     "execution_count": 6,
     "metadata": {},
     "output_type": "execute_result"
    }
   ],
   "source": [
    "tig.food"
   ]
  },
  {
   "cell_type": "code",
   "execution_count": 7,
   "id": "e617aecf",
   "metadata": {},
   "outputs": [
    {
     "data": {
      "text/plain": [
       "'20cm'"
      ]
     },
     "execution_count": 7,
     "metadata": {},
     "output_type": "execute_result"
    }
   ],
   "source": [
    "tig.tail"
   ]
  },
  {
   "cell_type": "code",
   "execution_count": 8,
   "id": "3460d287",
   "metadata": {},
   "outputs": [],
   "source": [
    "li =cats(name= \"lion\",food= \"canivore\", tail= \"25cm\")"
   ]
  },
  {
   "cell_type": "code",
   "execution_count": 9,
   "id": "a389d4f7",
   "metadata": {},
   "outputs": [
    {
     "data": {
      "text/plain": [
       "'lion'"
      ]
     },
     "execution_count": 9,
     "metadata": {},
     "output_type": "execute_result"
    }
   ],
   "source": [
    "li.name"
   ]
  },
  {
   "cell_type": "code",
   "execution_count": 10,
   "id": "e386bb63",
   "metadata": {},
   "outputs": [
    {
     "data": {
      "text/plain": [
       "'tiger'"
      ]
     },
     "execution_count": 10,
     "metadata": {},
     "output_type": "execute_result"
    }
   ],
   "source": [
    "tig.name"
   ]
  },
  {
   "cell_type": "code",
   "execution_count": 27,
   "id": "b450dbd7",
   "metadata": {},
   "outputs": [],
   "source": [
    "class phones:\n",
    "#     creating class attribute:\n",
    "    def __init__(self ,name,specification, price, discount,homedelivery):\n",
    "        self.name = name\n",
    "        self.specification = specification\n",
    "        self.price = price\n",
    "        self.discount = discount\n",
    "        self.homedelivery = homedelivery"
   ]
  },
  {
   "cell_type": "code",
   "execution_count": 25,
   "id": "e713864d",
   "metadata": {},
   "outputs": [],
   "source": [
    "SGs4 = phones(name = \"samsung galaxy s4\", \n",
    "              specification = \"Ram:8GB ROM:128GB\\\n",
    "              Network:2G/3G/4G\\\n",
    "              Finger print: Front sensor\\\n",
    "              Battary: 5000MAH Memory Card: 128GB\\\n",
    "              Front/Back Camera: 12pixel/24pixel\",\n",
    "              price = \"N98,000\",\n",
    "              discount = \"N92,000\")\n",
    "\n",
    "        "
   ]
  },
  {
   "cell_type": "code",
   "execution_count": 16,
   "id": "317c0385",
   "metadata": {},
   "outputs": [
    {
     "data": {
      "text/plain": [
       "'samsung galaxy s4'"
      ]
     },
     "execution_count": 16,
     "metadata": {},
     "output_type": "execute_result"
    }
   ],
   "source": [
    "SGs4.name"
   ]
  },
  {
   "cell_type": "code",
   "execution_count": 17,
   "id": "40f9e51a",
   "metadata": {},
   "outputs": [
    {
     "data": {
      "text/plain": [
       "'Ram:8GB ROM:128GB              Network:2G/3G/4G              Finger print: Front sensor              Battary: 5000MAH Memory Card: 128GB              Front/Back Camera: 12pixel/24pixel'"
      ]
     },
     "execution_count": 17,
     "metadata": {},
     "output_type": "execute_result"
    }
   ],
   "source": [
    "SGs4.specification"
   ]
  },
  {
   "cell_type": "code",
   "execution_count": 18,
   "id": "070bd656",
   "metadata": {},
   "outputs": [
    {
     "data": {
      "text/plain": [
       "'N98,000'"
      ]
     },
     "execution_count": 18,
     "metadata": {},
     "output_type": "execute_result"
    }
   ],
   "source": [
    "SGs4.price"
   ]
  },
  {
   "cell_type": "code",
   "execution_count": 19,
   "id": "c2406ec2",
   "metadata": {},
   "outputs": [
    {
     "data": {
      "text/plain": [
       "'N92,000'"
      ]
     },
     "execution_count": 19,
     "metadata": {},
     "output_type": "execute_result"
    }
   ],
   "source": [
    "SGs4.discount"
   ]
  },
  {
   "cell_type": "code",
   "execution_count": 28,
   "id": "238020e1",
   "metadata": {},
   "outputs": [],
   "source": [
    "I11 = phones(name = \"iphone 11\", \n",
    "              specification = \"Ram:12GB ROM:128GB\\\n",
    "              Network:3G/4G/5G\\\n",
    "              Finger print: Back sensor\\\n",
    "              Battary: 3500MAH Memory Card: 128GB\\\n",
    "              Front/Back Camera: 13pixel/32pixel\\\n",
    "              Case: Glass casing\",\n",
    "              price = \"N250,000\",\n",
    "              discount = \"N245,000\",\n",
    "              homedelivery = \"N5000\")\n"
   ]
  },
  {
   "cell_type": "code",
   "execution_count": 29,
   "id": "2da7176a",
   "metadata": {},
   "outputs": [
    {
     "data": {
      "text/plain": [
       "'iphone 11'"
      ]
     },
     "execution_count": 29,
     "metadata": {},
     "output_type": "execute_result"
    }
   ],
   "source": [
    "I11.name"
   ]
  },
  {
   "cell_type": "code",
   "execution_count": 30,
   "id": "f49080ce",
   "metadata": {},
   "outputs": [
    {
     "data": {
      "text/plain": [
       "'Ram:12GB ROM:128GB              Network:3G/4G/5G              Finger print: Back sensor              Battary: 3500MAH Memory Card: 128GB              Front/Back Camera: 13pixel/32pixel              Case: Glass casing'"
      ]
     },
     "execution_count": 30,
     "metadata": {},
     "output_type": "execute_result"
    }
   ],
   "source": [
    "I11.specification"
   ]
  },
  {
   "cell_type": "code",
   "execution_count": 31,
   "id": "d0b897a3",
   "metadata": {},
   "outputs": [
    {
     "data": {
      "text/plain": [
       "'N250,000'"
      ]
     },
     "execution_count": 31,
     "metadata": {},
     "output_type": "execute_result"
    }
   ],
   "source": [
    "I11.price"
   ]
  },
  {
   "cell_type": "code",
   "execution_count": 32,
   "id": "f0b611c2",
   "metadata": {},
   "outputs": [
    {
     "data": {
      "text/plain": [
       "'N245,000'"
      ]
     },
     "execution_count": 32,
     "metadata": {},
     "output_type": "execute_result"
    }
   ],
   "source": [
    "I11.discount"
   ]
  },
  {
   "cell_type": "code",
   "execution_count": 33,
   "id": "00788e4f",
   "metadata": {},
   "outputs": [
    {
     "data": {
      "text/plain": [
       "'N5000'"
      ]
     },
     "execution_count": 33,
     "metadata": {},
     "output_type": "execute_result"
    }
   ],
   "source": [
    "I11.homedelivery"
   ]
  },
  {
   "cell_type": "code",
   "execution_count": null,
   "id": "391711fb",
   "metadata": {},
   "outputs": [],
   "source": [
    "#Assignment:\n",
    "# create a class name called cars \n",
    "# create the class attributes which are self, name, model, company, price\n",
    "# add five different cars datas\n"
   ]
  },
  {
   "cell_type": "code",
   "execution_count": 12,
   "id": "f6cbbe75",
   "metadata": {},
   "outputs": [],
   "source": [
    "class cars:\n",
    "    # creating class attribute:\n",
    "    def __init__ (self,name,model,company,price):\n",
    "        self.name = name\n",
    "        self.model = model\n",
    "        self.company = company\n",
    "        self.price = price\n",
    "    "
   ]
  },
  {
   "cell_type": "code",
   "execution_count": 19,
   "id": "10db967f",
   "metadata": {},
   "outputs": [],
   "source": [
    "benz = cars(name = 'c300',\n",
    "           model= '2011 model',\n",
    "            company = 'mecedicebenz',\n",
    "            price = '6,000,000')\n"
   ]
  },
  {
   "cell_type": "code",
   "execution_count": 20,
   "id": "883dcf6c",
   "metadata": {},
   "outputs": [
    {
     "data": {
      "text/plain": [
       "'c300'"
      ]
     },
     "execution_count": 20,
     "metadata": {},
     "output_type": "execute_result"
    }
   ],
   "source": [
    "benz.name"
   ]
  },
  {
   "cell_type": "code",
   "execution_count": 21,
   "id": "79838541",
   "metadata": {},
   "outputs": [
    {
     "data": {
      "text/plain": [
       "'2011 model'"
      ]
     },
     "execution_count": 21,
     "metadata": {},
     "output_type": "execute_result"
    }
   ],
   "source": [
    "benz.model"
   ]
  },
  {
   "cell_type": "code",
   "execution_count": 22,
   "id": "247f9d34",
   "metadata": {},
   "outputs": [
    {
     "data": {
      "text/plain": [
       "'mecedicebenz'"
      ]
     },
     "execution_count": 22,
     "metadata": {},
     "output_type": "execute_result"
    }
   ],
   "source": [
    "benz.company"
   ]
  },
  {
   "cell_type": "code",
   "execution_count": 23,
   "id": "941bf7d7",
   "metadata": {},
   "outputs": [
    {
     "data": {
      "text/plain": [
       "'6,000,000'"
      ]
     },
     "execution_count": 23,
     "metadata": {},
     "output_type": "execute_result"
    }
   ],
   "source": [
    "benz.price"
   ]
  },
  {
   "cell_type": "code",
   "execution_count": 27,
   "id": "656d995b",
   "metadata": {},
   "outputs": [],
   "source": [
    "bmw = cars(name='i520',\n",
    "          model='2005 model',\n",
    "          company='BMW',\n",
    "          price ='5000,000')"
   ]
  },
  {
   "cell_type": "code",
   "execution_count": 28,
   "id": "737915d8",
   "metadata": {},
   "outputs": [
    {
     "data": {
      "text/plain": [
       "'i520'"
      ]
     },
     "execution_count": 28,
     "metadata": {},
     "output_type": "execute_result"
    }
   ],
   "source": [
    "bmw.name"
   ]
  },
  {
   "cell_type": "code",
   "execution_count": 29,
   "id": "db37544a",
   "metadata": {},
   "outputs": [
    {
     "data": {
      "text/plain": [
       "'2005 model'"
      ]
     },
     "execution_count": 29,
     "metadata": {},
     "output_type": "execute_result"
    }
   ],
   "source": [
    "bmw.model"
   ]
  },
  {
   "cell_type": "code",
   "execution_count": 30,
   "id": "0db07d49",
   "metadata": {},
   "outputs": [
    {
     "data": {
      "text/plain": [
       "'BMW'"
      ]
     },
     "execution_count": 30,
     "metadata": {},
     "output_type": "execute_result"
    }
   ],
   "source": [
    "bmw.company"
   ]
  },
  {
   "cell_type": "code",
   "execution_count": 31,
   "id": "1b899869",
   "metadata": {},
   "outputs": [
    {
     "data": {
      "text/plain": [
       "'5000,000'"
      ]
     },
     "execution_count": 31,
     "metadata": {},
     "output_type": "execute_result"
    }
   ],
   "source": [
    "bmw.price"
   ]
  },
  {
   "cell_type": "code",
   "execution_count": 32,
   "id": "1d2b8ec3",
   "metadata": {},
   "outputs": [],
   "source": [
    "toyota = cars(name= 'camry',\n",
    "             model = '2021',\n",
    "             company= 'toyota',\n",
    "             price = '4,000,000')"
   ]
  },
  {
   "cell_type": "code",
   "execution_count": 33,
   "id": "7da132d8",
   "metadata": {},
   "outputs": [
    {
     "data": {
      "text/plain": [
       "'camry'"
      ]
     },
     "execution_count": 33,
     "metadata": {},
     "output_type": "execute_result"
    }
   ],
   "source": [
    "toyota.name"
   ]
  },
  {
   "cell_type": "code",
   "execution_count": 34,
   "id": "13b4a843",
   "metadata": {},
   "outputs": [
    {
     "data": {
      "text/plain": [
       "'2021'"
      ]
     },
     "execution_count": 34,
     "metadata": {},
     "output_type": "execute_result"
    }
   ],
   "source": [
    "toyota.model"
   ]
  },
  {
   "cell_type": "code",
   "execution_count": 35,
   "id": "6f1bd157",
   "metadata": {},
   "outputs": [
    {
     "data": {
      "text/plain": [
       "'toyota'"
      ]
     },
     "execution_count": 35,
     "metadata": {},
     "output_type": "execute_result"
    }
   ],
   "source": [
    "toyota.company"
   ]
  },
  {
   "cell_type": "code",
   "execution_count": 36,
   "id": "8c7d0f2f",
   "metadata": {},
   "outputs": [
    {
     "data": {
      "text/plain": [
       "'4,000,000'"
      ]
     },
     "execution_count": 36,
     "metadata": {},
     "output_type": "execute_result"
    }
   ],
   "source": [
    "toyota.price"
   ]
  },
  {
   "cell_type": "code",
   "execution_count": null,
   "id": "884233ff",
   "metadata": {},
   "outputs": [],
   "source": []
  }
 ],
 "metadata": {
  "kernelspec": {
   "display_name": "Python 3 (ipykernel)",
   "language": "python",
   "name": "python3"
  },
  "language_info": {
   "codemirror_mode": {
    "name": "ipython",
    "version": 3
   },
   "file_extension": ".py",
   "mimetype": "text/x-python",
   "name": "python",
   "nbconvert_exporter": "python",
   "pygments_lexer": "ipython3",
   "version": "3.9.7"
  }
 },
 "nbformat": 4,
 "nbformat_minor": 5
}
