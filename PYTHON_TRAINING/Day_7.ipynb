{
 "cells": [
  {
   "cell_type": "code",
   "execution_count": 1,
   "id": "9d9173d3",
   "metadata": {},
   "outputs": [],
   "source": [
    "# functions:\n",
    "\n",
    "# Examples of inbuit functions in python:\n",
    "# int() List() tuple() Len() Sum() float() dict() min() Max() etc\n",
    "\n",
    "# creating a function called addition:\n",
    "def addition (num1, num2, num3):\n",
    "    return num1 + num2 + num3\n",
    "\n",
    "\n",
    "\n"
   ]
  },
  {
   "cell_type": "code",
   "execution_count": 3,
   "id": "2c393d15",
   "metadata": {},
   "outputs": [
    {
     "data": {
      "text/plain": [
       "105"
      ]
     },
     "execution_count": 3,
     "metadata": {},
     "output_type": "execute_result"
    }
   ],
   "source": [
    "addition (12,43,50)"
   ]
  },
  {
   "cell_type": "code",
   "execution_count": 7,
   "id": "e92ec6b6",
   "metadata": {},
   "outputs": [],
   "source": [
    "# Creating a function that calculate square root\n",
    "\n",
    "def square_root (num):\n",
    "    return round (num** (1/2))"
   ]
  },
  {
   "cell_type": "code",
   "execution_count": 8,
   "id": "639063d4",
   "metadata": {},
   "outputs": [
    {
     "data": {
      "text/plain": [
       "5"
      ]
     },
     "execution_count": 8,
     "metadata": {},
     "output_type": "execute_result"
    }
   ],
   "source": [
    "square_root(25)"
   ]
  },
  {
   "cell_type": "code",
   "execution_count": null,
   "id": "5fd0d904",
   "metadata": {},
   "outputs": [],
   "source": [
    "# A local scope can be defined as a variable created inside a function.\n",
    "\n",
    "# A global can be defined as a variable created out a function."
   ]
  },
  {
   "cell_type": "code",
   "execution_count": 12,
   "id": "92bd6d11",
   "metadata": {},
   "outputs": [],
   "source": [
    "# Example for global and local scope:\n",
    "\n",
    "# a global scope\n",
    "y = 25 \n",
    "\n",
    "# y is a global scope because its not define inside a function\n",
    "\n",
    "# creating a function called display()\n",
    "def display(num1, num2):\n",
    "    # making x a global scope:\n",
    "    global x\n",
    "    \n",
    "    # a local scope:\n",
    "    x = num1\n",
    "    v = num2\n",
    "    return f' first argument enter: {x} and second\\\n",
    "    argument enter: {v}'\n",
    "    "
   ]
  },
  {
   "cell_type": "code",
   "execution_count": 13,
   "id": "b2211fd7",
   "metadata": {},
   "outputs": [
    {
     "data": {
      "text/plain": [
       "' first argument enter: 45 and second    argument enter: 56'"
      ]
     },
     "execution_count": 13,
     "metadata": {},
     "output_type": "execute_result"
    }
   ],
   "source": [
    "display(45,56)"
   ]
  },
  {
   "cell_type": "code",
   "execution_count": 16,
   "id": "e5587230",
   "metadata": {},
   "outputs": [
    {
     "data": {
      "text/plain": [
       "45"
      ]
     },
     "execution_count": 16,
     "metadata": {},
     "output_type": "execute_result"
    }
   ],
   "source": [
    "x"
   ]
  },
  {
   "cell_type": "code",
   "execution_count": 15,
   "id": "63947235",
   "metadata": {
    "scrolled": true
   },
   "outputs": [
    {
     "ename": "NameError",
     "evalue": "name 'v' is not defined",
     "output_type": "error",
     "traceback": [
      "\u001b[1;31m---------------------------------------------------------------------------\u001b[0m",
      "\u001b[1;31mNameError\u001b[0m                                 Traceback (most recent call last)",
      "\u001b[1;32m~\\AppData\\Local\\Temp/ipykernel_6884/2571624735.py\u001b[0m in \u001b[0;36m<module>\u001b[1;34m\u001b[0m\n\u001b[1;32m----> 1\u001b[1;33m \u001b[0mv\u001b[0m\u001b[1;33m\u001b[0m\u001b[1;33m\u001b[0m\u001b[0m\n\u001b[0m",
      "\u001b[1;31mNameError\u001b[0m: name 'v' is not defined"
     ]
    }
   ],
   "source": []
  },
  {
   "cell_type": "code",
   "execution_count": 17,
   "id": "e034d847",
   "metadata": {},
   "outputs": [
    {
     "data": {
      "text/plain": [
       "8"
      ]
     },
     "execution_count": 17,
     "metadata": {},
     "output_type": "execute_result"
    }
   ],
   "source": [
    "# Modules or libraries:\n",
    "# this can be defined as an extention with extended capabilities.\n",
    "\n",
    "# importing a module or library called random\n",
    "import random\n",
    "random.randrange (1,10)\n",
    "\n",
    "    "
   ]
  },
  {
   "cell_type": "code",
   "execution_count": 18,
   "id": "ffbd93fb",
   "metadata": {},
   "outputs": [
    {
     "data": {
      "text/plain": [
       "5.0"
      ]
     },
     "execution_count": 18,
     "metadata": {},
     "output_type": "execute_result"
    }
   ],
   "source": [
    "# importing a module or library called math:\n",
    "\n",
    "import math\n",
    "# using square root function inside the math module or libraries\n",
    "math.sqrt(25)"
   ]
  },
  {
   "cell_type": "code",
   "execution_count": null,
   "id": "5109ef58",
   "metadata": {},
   "outputs": [],
   "source": [
    "# asigngment:\n",
    "\n",
    "# 1. A set of 10 students take part in  an IQ test and have a result of the following scores:\n",
    "# the scores are 20,30,40,50,60,70,55,75,85, 85\n",
    "\n",
    "# create a function that calculate the arithementic means of the scores?\n",
    "\n",
    "#Note: the scores should be asign to a variable\n",
    "\n",
    "\n",
    "# 2. Using the statistic module or libraries find the mode of scores in question one \n"
   ]
  },
  {
   "cell_type": "code",
   "execution_count": 13,
   "id": "a8929619",
   "metadata": {},
   "outputs": [],
   "source": [
    "# Calculating arithemetic mean of scores:\n",
    "data = [20,30,40.50,60,70,55,75,85,85]\n",
    "\n",
    "def arithmetice_mean(num1):\n",
    "    return round(sum(num1)/len(num1))"
   ]
  },
  {
   "cell_type": "code",
   "execution_count": 14,
   "id": "5b8a0228",
   "metadata": {},
   "outputs": [
    {
     "data": {
      "text/plain": [
       "58"
      ]
     },
     "execution_count": 14,
     "metadata": {},
     "output_type": "execute_result"
    }
   ],
   "source": [
    " arithmetice_mean(data)"
   ]
  },
  {
   "cell_type": "code",
   "execution_count": 15,
   "id": "439ffe1e",
   "metadata": {},
   "outputs": [
    {
     "data": {
      "text/plain": [
       "85"
      ]
     },
     "execution_count": 15,
     "metadata": {},
     "output_type": "execute_result"
    }
   ],
   "source": [
    "import statistics\n",
    "statistics.mode(data)"
   ]
  },
  {
   "cell_type": "code",
   "execution_count": 29,
   "id": "4914ea5b",
   "metadata": {},
   "outputs": [],
   "source": [
    "# calculation using subtraction:\n",
    "data = 200\n",
    "num = 50\n",
    "\n",
    "def subtraction(num):\n",
    "    return num-50"
   ]
  },
  {
   "cell_type": "code",
   "execution_count": 30,
   "id": "aa4ddea1",
   "metadata": {},
   "outputs": [
    {
     "data": {
      "text/plain": [
       "450"
      ]
     },
     "execution_count": 30,
     "metadata": {},
     "output_type": "execute_result"
    }
   ],
   "source": [
    "subtraction(500)"
   ]
  },
  {
   "cell_type": "code",
   "execution_count": 31,
   "id": "4740b69b",
   "metadata": {},
   "outputs": [],
   "source": [
    "def division(num3):\n",
    "    return num3/50"
   ]
  },
  {
   "cell_type": "code",
   "execution_count": 33,
   "id": "fcba6a9d",
   "metadata": {},
   "outputs": [
    {
     "data": {
      "text/plain": [
       "1.0"
      ]
     },
     "execution_count": 33,
     "metadata": {},
     "output_type": "execute_result"
    }
   ],
   "source": [
    "division (50)"
   ]
  },
  {
   "cell_type": "code",
   "execution_count": null,
   "id": "6865a286",
   "metadata": {},
   "outputs": [],
   "source": []
  }
 ],
 "metadata": {
  "kernelspec": {
   "display_name": "Python 3 (ipykernel)",
   "language": "python",
   "name": "python3"
  },
  "language_info": {
   "codemirror_mode": {
    "name": "ipython",
    "version": 3
   },
   "file_extension": ".py",
   "mimetype": "text/x-python",
   "name": "python",
   "nbconvert_exporter": "python",
   "pygments_lexer": "ipython3",
   "version": "3.9.7"
  }
 },
 "nbformat": 4,
 "nbformat_minor": 5
}
