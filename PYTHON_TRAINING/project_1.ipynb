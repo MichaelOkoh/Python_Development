{
 "cells": [
  {
   "cell_type": "code",
   "execution_count": null,
   "id": "14763b28",
   "metadata": {},
   "outputs": [],
   "source": [
    "# create an input which will be used to create a new email address after that create a function that  checks if at gmail.com\n",
    "# was found inside the email created by the user before proceeding to create password."
   ]
  },
  {
   "cell_type": "code",
   "execution_count": null,
   "id": "ff778848",
   "metadata": {},
   "outputs": [],
   "source": [
    "# creating a new email address:\n",
    "\n",
    "username = input('enter @gmail address\\n')\n",
    "name = 'Victor@gmail.com'\n",
    "def checker(data):\n",
    "    if '@gmail.com' in data:\n",
    "        return 'this is an email address'\n",
    "    else:\n",
    "        return 'this is not an email'"
   ]
  },
  {
   "cell_type": "code",
   "execution_count": null,
   "id": "66a70cbb",
   "metadata": {},
   "outputs": [
    {
     "name": "stdout",
     "output_type": "stream",
     "text": [
      "create your gmail address\n",
      "oche@gmail.com\n",
      "proceed to password\n",
      "created password\n",
      "12345\n",
      "account created\n"
     ]
    }
   ],
   "source": [
    "email = input('create your gmail address\\n')\n",
    "if '@gmail.com' in email:\n",
    "    print('proceed to password') \n",
    "    password = input('created password\\n')\n",
    "    print('account created')\n",
    "    email = input('enter email address')\n",
    "    password= input('password')\n",
    "    print('welcome to dasboard')\n",
    "\n",
    "else:\n",
    "    print('wrong email address')\n",
    "    \n",
    "\n",
    "\n"
   ]
  },
  {
   "cell_type": "code",
   "execution_count": null,
   "id": "8fdff12d",
   "metadata": {},
   "outputs": [],
   "source": []
  },
  {
   "cell_type": "code",
   "execution_count": null,
   "id": "b1130e36",
   "metadata": {},
   "outputs": [],
   "source": [
    "# create a conditional statement that check if both email and password is correct proceed to dashboard using a logical \n",
    "# operator called and "
   ]
  },
  {
   "cell_type": "code",
   "execution_count": null,
   "id": "9eb0ccdf",
   "metadata": {},
   "outputs": [],
   "source": [
    "email = input('create gmail address\\n')\n",
    "if 'yahoo.com' in email:\n",
    "    print('next password')\n",
    "    password = input('create password\\n')\n",
    "and: \n",
    "    if '12345 'in password:\n",
    "    print('proceed to dashboard')\n",
    "    \n",
    "        "
   ]
  },
  {
   "cell_type": "code",
   "execution_count": null,
   "id": "4fe7310b",
   "metadata": {},
   "outputs": [],
   "source": []
  },
  {
   "cell_type": "code",
   "execution_count": null,
   "id": "008c32ea",
   "metadata": {},
   "outputs": [],
   "source": []
  }
 ],
 "metadata": {
  "kernelspec": {
   "display_name": "Python 3 (ipykernel)",
   "language": "python",
   "name": "python3"
  },
  "language_info": {
   "codemirror_mode": {
    "name": "ipython",
    "version": 3
   },
   "file_extension": ".py",
   "mimetype": "text/x-python",
   "name": "python",
   "nbconvert_exporter": "python",
   "pygments_lexer": "ipython3",
   "version": "3.9.7"
  }
 },
 "nbformat": 4,
 "nbformat_minor": 5
}
