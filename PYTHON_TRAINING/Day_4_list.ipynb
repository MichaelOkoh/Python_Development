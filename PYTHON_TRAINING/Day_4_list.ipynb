{
 "cells": [
  {
   "cell_type": "code",
   "execution_count": 1,
   "id": "711c2784",
   "metadata": {},
   "outputs": [
    {
     "data": {
      "text/plain": [
       "['camry', 'lexus', 'glk', 'honda', 'ford', 'golf']"
      ]
     },
     "execution_count": 1,
     "metadata": {},
     "output_type": "execute_result"
    }
   ],
   "source": [
    "#list: is a collection which is ordered and changable. it is usually written in square brackets.\n",
    "\n",
    "# creating a list of cars:\n",
    "cars = ['camry', 'lexus', 'glk', 'honda', 'ford', 'golf'] \n",
    "cars"
   ]
  },
  {
   "cell_type": "code",
   "execution_count": 2,
   "id": "148ae2b3",
   "metadata": {},
   "outputs": [
    {
     "data": {
      "text/plain": [
       "list"
      ]
     },
     "execution_count": 2,
     "metadata": {},
     "output_type": "execute_result"
    }
   ],
   "source": [
    "# using the type function to check for the data type.\n",
    "type(cars)\n"
   ]
  },
  {
   "cell_type": "code",
   "execution_count": 37,
   "id": "1a03b0fa",
   "metadata": {},
   "outputs": [
    {
     "data": {
      "text/plain": [
       "'camry'"
      ]
     },
     "execution_count": 37,
     "metadata": {},
     "output_type": "execute_result"
    }
   ],
   "source": [
    "# accesssing the items in the list by their index:\n",
    "cars[0]"
   ]
  },
  {
   "cell_type": "code",
   "execution_count": 38,
   "id": "b8ce305d",
   "metadata": {},
   "outputs": [
    {
     "data": {
      "text/plain": [
       "3"
      ]
     },
     "execution_count": 38,
     "metadata": {},
     "output_type": "execute_result"
    }
   ],
   "source": [
    "# checking for the index of a particular item in a list:\n",
    "cars.index('honda')"
   ]
  },
  {
   "cell_type": "code",
   "execution_count": 39,
   "id": "d81b9a66",
   "metadata": {},
   "outputs": [
    {
     "data": {
      "text/plain": [
       "'honda'"
      ]
     },
     "execution_count": 39,
     "metadata": {},
     "output_type": "execute_result"
    }
   ],
   "source": [
    "cars[3]"
   ]
  },
  {
   "cell_type": "code",
   "execution_count": 40,
   "id": "ea135804",
   "metadata": {},
   "outputs": [
    {
     "data": {
      "text/plain": [
       "['camry', 'lexus', 'glk']"
      ]
     },
     "execution_count": 40,
     "metadata": {},
     "output_type": "execute_result"
    }
   ],
   "source": [
    "# checking for the range of index from 0 - 3\n",
    "cars[0:3]"
   ]
  },
  {
   "cell_type": "code",
   "execution_count": 41,
   "id": "3604fc95",
   "metadata": {},
   "outputs": [
    {
     "data": {
      "text/plain": [
       "['camry', 'lexus', 'glk', 'honda', 'ford', 'golf']"
      ]
     },
     "execution_count": 41,
     "metadata": {},
     "output_type": "execute_result"
    }
   ],
   "source": [
    "# checking for the range of index without limits:\n",
    "cars[0:]\n"
   ]
  },
  {
   "cell_type": "code",
   "execution_count": 3,
   "id": "fcaa9e70",
   "metadata": {},
   "outputs": [],
   "source": [
    "# how to change item value in a list using insert:\n",
    "cars.insert(0,'lambogini')"
   ]
  },
  {
   "cell_type": "code",
   "execution_count": 43,
   "id": "a232c3b3",
   "metadata": {},
   "outputs": [
    {
     "data": {
      "text/plain": [
       "['lambogini', 'camry', 'lexus', 'glk', 'honda', 'ford', 'golf']"
      ]
     },
     "execution_count": 43,
     "metadata": {},
     "output_type": "execute_result"
    }
   ],
   "source": [
    "cars"
   ]
  },
  {
   "cell_type": "code",
   "execution_count": 44,
   "id": "0f83d1a6",
   "metadata": {},
   "outputs": [
    {
     "data": {
      "text/plain": [
       "'lambogini'"
      ]
     },
     "execution_count": 44,
     "metadata": {},
     "output_type": "execute_result"
    }
   ],
   "source": [
    "cars[0]"
   ]
  },
  {
   "cell_type": "code",
   "execution_count": 45,
   "id": "e0bdc447",
   "metadata": {},
   "outputs": [
    {
     "data": {
      "text/plain": [
       "1"
      ]
     },
     "execution_count": 45,
     "metadata": {},
     "output_type": "execute_result"
    }
   ],
   "source": [
    "# checking for the total number of items in the list using .count():\n",
    "cars.count('lambogini')"
   ]
  },
  {
   "cell_type": "code",
   "execution_count": 46,
   "id": "cf31f408",
   "metadata": {},
   "outputs": [
    {
     "data": {
      "text/plain": [
       "True"
      ]
     },
     "execution_count": 46,
     "metadata": {},
     "output_type": "execute_result"
    }
   ],
   "source": [
    "# checking if an item exist in a list using membership operator called in:\n",
    "'camry' in cars"
   ]
  },
  {
   "cell_type": "code",
   "execution_count": 47,
   "id": "fa219d1a",
   "metadata": {},
   "outputs": [
    {
     "data": {
      "text/plain": [
       "False"
      ]
     },
     "execution_count": 47,
     "metadata": {},
     "output_type": "execute_result"
    }
   ],
   "source": [
    "'toyota' in cars"
   ]
  },
  {
   "cell_type": "code",
   "execution_count": 48,
   "id": "bcfe50c8",
   "metadata": {},
   "outputs": [],
   "source": [
    "# adding an item to a list using .append:\n",
    "cars.append('toyota')"
   ]
  },
  {
   "cell_type": "code",
   "execution_count": 49,
   "id": "327ff44b",
   "metadata": {},
   "outputs": [
    {
     "data": {
      "text/plain": [
       "['lambogini', 'camry', 'lexus', 'glk', 'honda', 'ford', 'golf', 'toyota']"
      ]
     },
     "execution_count": 49,
     "metadata": {},
     "output_type": "execute_result"
    }
   ],
   "source": [
    "cars"
   ]
  },
  {
   "cell_type": "code",
   "execution_count": 50,
   "id": "1838170c",
   "metadata": {},
   "outputs": [],
   "source": [
    "#adding an item to a list using .insert():\n",
    "cars.insert(0,'matrix')"
   ]
  },
  {
   "cell_type": "code",
   "execution_count": 51,
   "id": "97bd0313",
   "metadata": {},
   "outputs": [
    {
     "data": {
      "text/plain": [
       "['matrix',\n",
       " 'lambogini',\n",
       " 'camry',\n",
       " 'lexus',\n",
       " 'glk',\n",
       " 'honda',\n",
       " 'ford',\n",
       " 'golf',\n",
       " 'toyota']"
      ]
     },
     "execution_count": 51,
     "metadata": {},
     "output_type": "execute_result"
    }
   ],
   "source": [
    "cars"
   ]
  },
  {
   "cell_type": "code",
   "execution_count": 52,
   "id": "3ca3f9d6",
   "metadata": {},
   "outputs": [],
   "source": [
    "# using del to remove an item from a list:\n",
    "del cars [0] # you need to call on the index of item you wish to remove from the list:"
   ]
  },
  {
   "cell_type": "code",
   "execution_count": 53,
   "id": "31ce8be7",
   "metadata": {},
   "outputs": [
    {
     "data": {
      "text/plain": [
       "['lambogini', 'camry', 'lexus', 'glk', 'honda', 'ford', 'golf', 'toyota']"
      ]
     },
     "execution_count": 53,
     "metadata": {},
     "output_type": "execute_result"
    }
   ],
   "source": [
    "cars"
   ]
  },
  {
   "cell_type": "code",
   "execution_count": 54,
   "id": "c2b500b6",
   "metadata": {},
   "outputs": [],
   "source": [
    "# removing an item from list using .remove()\n",
    "cars.remove('lexus')"
   ]
  },
  {
   "cell_type": "code",
   "execution_count": 55,
   "id": "7bce7f89",
   "metadata": {},
   "outputs": [
    {
     "data": {
      "text/plain": [
       "['lambogini', 'camry', 'glk', 'honda', 'ford', 'golf', 'toyota']"
      ]
     },
     "execution_count": 55,
     "metadata": {},
     "output_type": "execute_result"
    }
   ],
   "source": [
    "cars"
   ]
  },
  {
   "cell_type": "code",
   "execution_count": 56,
   "id": "0cbe4f4f",
   "metadata": {},
   "outputs": [
    {
     "data": {
      "text/plain": [
       "'toyota'"
      ]
     },
     "execution_count": 56,
     "metadata": {},
     "output_type": "execute_result"
    }
   ],
   "source": [
    "# using .pop to remove item from a list:\n",
    "cars.pop()"
   ]
  },
  {
   "cell_type": "code",
   "execution_count": 57,
   "id": "dbd44001",
   "metadata": {},
   "outputs": [
    {
     "data": {
      "text/plain": [
       "['lambogini', 'camry', 'glk', 'honda', 'ford', 'golf']"
      ]
     },
     "execution_count": 57,
     "metadata": {},
     "output_type": "execute_result"
    }
   ],
   "source": [
    "cars"
   ]
  },
  {
   "cell_type": "code",
   "execution_count": 58,
   "id": "1b9899bf",
   "metadata": {},
   "outputs": [
    {
     "data": {
      "text/plain": [
       "'lambogini'"
      ]
     },
     "execution_count": 58,
     "metadata": {},
     "output_type": "execute_result"
    }
   ],
   "source": [
    "#removing an item from list using .pop by calling on the index of the particular item in the list.\n",
    "cars.pop(0)"
   ]
  },
  {
   "cell_type": "code",
   "execution_count": 59,
   "id": "24611333",
   "metadata": {},
   "outputs": [
    {
     "data": {
      "text/plain": [
       "['camry', 'glk', 'honda', 'ford', 'golf']"
      ]
     },
     "execution_count": 59,
     "metadata": {},
     "output_type": "execute_result"
    }
   ],
   "source": [
    "cars"
   ]
  },
  {
   "cell_type": "code",
   "execution_count": 33,
   "id": "0b839517",
   "metadata": {},
   "outputs": [],
   "source": [
    "# using .clear() to remove all the items in a list:\n",
    "cars.clear()"
   ]
  },
  {
   "cell_type": "code",
   "execution_count": 34,
   "id": "3b5aa0d8",
   "metadata": {},
   "outputs": [
    {
     "data": {
      "text/plain": [
       "[]"
      ]
     },
     "execution_count": 34,
     "metadata": {},
     "output_type": "execute_result"
    }
   ],
   "source": [
    "cars"
   ]
  },
  {
   "cell_type": "code",
   "execution_count": 60,
   "id": "868efc29",
   "metadata": {},
   "outputs": [
    {
     "data": {
      "text/plain": [
       "['camry', 'glk', 'honda', 'ford', 'golf']"
      ]
     },
     "execution_count": 60,
     "metadata": {},
     "output_type": "execute_result"
    }
   ],
   "source": [
    "cars"
   ]
  },
  {
   "cell_type": "code",
   "execution_count": 61,
   "id": "20b8287d",
   "metadata": {},
   "outputs": [],
   "source": [
    "# copying a list using .copy()\n",
    "car1 = cars.copy()"
   ]
  },
  {
   "cell_type": "code",
   "execution_count": 62,
   "id": "03e4e39a",
   "metadata": {},
   "outputs": [
    {
     "data": {
      "text/plain": [
       "['camry', 'glk', 'honda', 'ford', 'golf']"
      ]
     },
     "execution_count": 62,
     "metadata": {},
     "output_type": "execute_result"
    }
   ],
   "source": [
    "car1"
   ]
  },
  {
   "cell_type": "code",
   "execution_count": 63,
   "id": "622cbd59",
   "metadata": {},
   "outputs": [
    {
     "data": {
      "text/plain": [
       "['camry', 'glk', 'honda', 'ford', 'golf']"
      ]
     },
     "execution_count": 63,
     "metadata": {},
     "output_type": "execute_result"
    }
   ],
   "source": [
    "cars"
   ]
  },
  {
   "cell_type": "code",
   "execution_count": 66,
   "id": "e7947507",
   "metadata": {},
   "outputs": [],
   "source": [
    "# changing the arraangement of a list to an alphabetical order using .sort()\n",
    "cars.sort()"
   ]
  },
  {
   "cell_type": "code",
   "execution_count": 67,
   "id": "3b82d14a",
   "metadata": {},
   "outputs": [
    {
     "data": {
      "text/plain": [
       "['camry', 'ford', 'glk', 'golf', 'honda']"
      ]
     },
     "execution_count": 67,
     "metadata": {},
     "output_type": "execute_result"
    }
   ],
   "source": [
    "cars"
   ]
  },
  {
   "cell_type": "code",
   "execution_count": 68,
   "id": "b12a3c7e",
   "metadata": {},
   "outputs": [],
   "source": [
    "# using .reverse() to rearrange a list:\n",
    "car1.reverse()"
   ]
  },
  {
   "cell_type": "code",
   "execution_count": 69,
   "id": "193af634",
   "metadata": {},
   "outputs": [
    {
     "data": {
      "text/plain": [
       "['golf', 'ford', 'honda', 'glk', 'camry']"
      ]
     },
     "execution_count": 69,
     "metadata": {},
     "output_type": "execute_result"
    }
   ],
   "source": [
    "car1"
   ]
  },
  {
   "cell_type": "code",
   "execution_count": 70,
   "id": "391c0185",
   "metadata": {},
   "outputs": [],
   "source": [
    "# extending a list with random numberS:\n",
    "\n",
    "import random\n",
    "num = random.randrange(100,999)\n",
    "\n",
    "cars.extend(str(num))"
   ]
  },
  {
   "cell_type": "code",
   "execution_count": 71,
   "id": "a5088e71",
   "metadata": {},
   "outputs": [
    {
     "data": {
      "text/plain": [
       "['camry', 'ford', 'glk', 'golf', 'honda', '8', '8', '9']"
      ]
     },
     "execution_count": 71,
     "metadata": {},
     "output_type": "execute_result"
    }
   ],
   "source": [
    "cars"
   ]
  },
  {
   "cell_type": "code",
   "execution_count": 72,
   "id": "76377ab7",
   "metadata": {},
   "outputs": [],
   "source": [
    "# Extending a list with another list\n",
    "cars.extend(car1)"
   ]
  },
  {
   "cell_type": "code",
   "execution_count": 73,
   "id": "907737fc",
   "metadata": {},
   "outputs": [
    {
     "data": {
      "text/plain": [
       "['camry',\n",
       " 'ford',\n",
       " 'glk',\n",
       " 'golf',\n",
       " 'honda',\n",
       " '8',\n",
       " '8',\n",
       " '9',\n",
       " 'golf',\n",
       " 'ford',\n",
       " 'honda',\n",
       " 'glk',\n",
       " 'camry']"
      ]
     },
     "execution_count": 73,
     "metadata": {},
     "output_type": "execute_result"
    }
   ],
   "source": [
    "cars"
   ]
  },
  {
   "cell_type": "code",
   "execution_count": 75,
   "id": "d5e0d8ec",
   "metadata": {},
   "outputs": [],
   "source": [
    "#Tuple:\n",
    "#A tuple is collection data which is ordered and unchangable:\n",
    "names = ('Daniel', 'Joshua', 'michael', 'Sarah', 'Benedict')  \n",
    "    "
   ]
  },
  {
   "cell_type": "code",
   "execution_count": 76,
   "id": "1b6e9119",
   "metadata": {},
   "outputs": [
    {
     "data": {
      "text/plain": [
       "('Daniel', 'Joshua', 'michael', 'Sarah', 'Benedict')"
      ]
     },
     "execution_count": 76,
     "metadata": {},
     "output_type": "execute_result"
    }
   ],
   "source": [
    "names"
   ]
  },
  {
   "cell_type": "code",
   "execution_count": 78,
   "id": "9424ee17",
   "metadata": {},
   "outputs": [
    {
     "data": {
      "text/plain": [
       "tuple"
      ]
     },
     "execution_count": 78,
     "metadata": {},
     "output_type": "execute_result"
    }
   ],
   "source": [
    "type(names)"
   ]
  },
  {
   "cell_type": "code",
   "execution_count": 80,
   "id": "b4b76a77",
   "metadata": {},
   "outputs": [
    {
     "data": {
      "text/plain": [
       "'Daniel'"
      ]
     },
     "execution_count": 80,
     "metadata": {},
     "output_type": "execute_result"
    }
   ],
   "source": [
    "# accessing the items in a tuple by their index\n",
    "names[0]"
   ]
  },
  {
   "cell_type": "code",
   "execution_count": 81,
   "id": "4171a9a4",
   "metadata": {},
   "outputs": [
    {
     "data": {
      "text/plain": [
       "3"
      ]
     },
     "execution_count": 81,
     "metadata": {},
     "output_type": "execute_result"
    }
   ],
   "source": [
    "# checking for the index of an item in a tuple:\n",
    "names.index('Sarah')"
   ]
  },
  {
   "cell_type": "code",
   "execution_count": 82,
   "id": "e9505845",
   "metadata": {},
   "outputs": [
    {
     "data": {
      "text/plain": [
       "('Daniel', 'Joshua', 'michael')"
      ]
     },
     "execution_count": 82,
     "metadata": {},
     "output_type": "execute_result"
    }
   ],
   "source": [
    "# checking the range of indexin a tuple from 0 - 3:\n",
    "names[0:3]"
   ]
  },
  {
   "cell_type": "code",
   "execution_count": 83,
   "id": "5df736f0",
   "metadata": {},
   "outputs": [
    {
     "data": {
      "text/plain": [
       "('Daniel', 'Joshua', 'michael', 'Sarah', 'Benedict')"
      ]
     },
     "execution_count": 83,
     "metadata": {},
     "output_type": "execute_result"
    }
   ],
   "source": [
    "# checking the range of indexin a tuple without limit:\n",
    "names[0:]"
   ]
  },
  {
   "cell_type": "code",
   "execution_count": 84,
   "id": "4899fd14",
   "metadata": {},
   "outputs": [
    {
     "data": {
      "text/plain": [
       "5"
      ]
     },
     "execution_count": 84,
     "metadata": {},
     "output_type": "execute_result"
    }
   ],
   "source": [
    "# checking the lenght of a tuple using len() function:\n",
    "len(names)"
   ]
  },
  {
   "cell_type": "code",
   "execution_count": 85,
   "id": "6c2d8725",
   "metadata": {},
   "outputs": [
    {
     "data": {
      "text/plain": [
       "6"
      ]
     },
     "execution_count": 85,
     "metadata": {},
     "output_type": "execute_result"
    }
   ],
   "source": [
    "len('victor')"
   ]
  },
  {
   "cell_type": "code",
   "execution_count": 86,
   "id": "a8bcd76f",
   "metadata": {},
   "outputs": [
    {
     "data": {
      "text/plain": [
       "False"
      ]
     },
     "execution_count": 86,
     "metadata": {},
     "output_type": "execute_result"
    }
   ],
   "source": [
    "# using the membership operator called in to check if an item exist in a tuple:\n",
    "'victor'in names"
   ]
  },
  {
   "cell_type": "code",
   "execution_count": 87,
   "id": "dcbff17a",
   "metadata": {},
   "outputs": [
    {
     "data": {
      "text/plain": [
       "True"
      ]
     },
     "execution_count": 87,
     "metadata": {},
     "output_type": "execute_result"
    }
   ],
   "source": [
    "'Sarah' in names"
   ]
  },
  {
   "cell_type": "code",
   "execution_count": 88,
   "id": "bf6163d2",
   "metadata": {},
   "outputs": [],
   "source": [
    "# Dictionary is a collection of datas which are ordered, changable and indexed. in python itis usually \n",
    "# written in curly brackets and it has keys and values.\n",
    "\n",
    "state_capital = {'FCT':'Abuja', 'Kano': 'Kano', 'Kogi' : 'Lokoja'}"
   ]
  },
  {
   "cell_type": "code",
   "execution_count": 89,
   "id": "7d301349",
   "metadata": {},
   "outputs": [
    {
     "data": {
      "text/plain": [
       "{'FCT': 'Abuja', 'Kano': 'Kano', 'Kogi': 'Lokoja'}"
      ]
     },
     "execution_count": 89,
     "metadata": {},
     "output_type": "execute_result"
    }
   ],
   "source": [
    "state_capital"
   ]
  },
  {
   "cell_type": "code",
   "execution_count": 90,
   "id": "6e02fb39",
   "metadata": {},
   "outputs": [
    {
     "data": {
      "text/plain": [
       "3"
      ]
     },
     "execution_count": 90,
     "metadata": {},
     "output_type": "execute_result"
    }
   ],
   "source": [
    "len(state_capital)"
   ]
  },
  {
   "cell_type": "code",
   "execution_count": 91,
   "id": "ed1c1951",
   "metadata": {},
   "outputs": [],
   "source": [
    "Agric_records = {'crops': ['Beans', 'Rice', 'yam'],\n",
    "                'Livestocks': ['Goat', 'Foul', 'Ram'],\n",
    "                'Protein': ['Egg', 'Fish',' Beef']}"
   ]
  },
  {
   "cell_type": "code",
   "execution_count": 92,
   "id": "41706e7e",
   "metadata": {},
   "outputs": [
    {
     "data": {
      "text/plain": [
       "{'crops': ['Beans', 'Rice', 'yam'],\n",
       " 'Livestocks': ['Goat', 'Foul', 'Ram'],\n",
       " 'Protein': ['Egg', 'Fish', ' Beef']}"
      ]
     },
     "execution_count": 92,
     "metadata": {},
     "output_type": "execute_result"
    }
   ],
   "source": [
    "Agric_records"
   ]
  },
  {
   "cell_type": "code",
   "execution_count": 94,
   "id": "4732393d",
   "metadata": {},
   "outputs": [
    {
     "data": {
      "text/plain": [
       "['Beans', 'Rice', 'yam']"
      ]
     },
     "execution_count": 94,
     "metadata": {},
     "output_type": "execute_result"
    }
   ],
   "source": [
    "Agric_records['crops']"
   ]
  },
  {
   "cell_type": "code",
   "execution_count": 95,
   "id": "5e351121",
   "metadata": {},
   "outputs": [
    {
     "data": {
      "text/plain": [
       "dict_keys(['crops', 'Livestocks', 'Protein'])"
      ]
     },
     "execution_count": 95,
     "metadata": {},
     "output_type": "execute_result"
    }
   ],
   "source": [
    "#checking for keys in a dictionary:\n",
    "Agric_records.keys()"
   ]
  },
  {
   "cell_type": "code",
   "execution_count": 97,
   "id": "f7af2cbe",
   "metadata": {},
   "outputs": [
    {
     "data": {
      "text/plain": [
       "dict_values([['Beans', 'Rice', 'yam'], ['Goat', 'Foul', 'Ram'], ['Egg', 'Fish', ' Beef']])"
      ]
     },
     "execution_count": 97,
     "metadata": {},
     "output_type": "execute_result"
    }
   ],
   "source": [
    "#checking for values in a dictionary:\n",
    "Agric_records.values()"
   ]
  },
  {
   "cell_type": "code",
   "execution_count": 98,
   "id": "99c45568",
   "metadata": {},
   "outputs": [
    {
     "data": {
      "text/plain": [
       "False"
      ]
     },
     "execution_count": 98,
     "metadata": {},
     "output_type": "execute_result"
    }
   ],
   "source": [
    "'Beans'in Agric_records"
   ]
  },
  {
   "cell_type": "code",
   "execution_count": 99,
   "id": "7d966967",
   "metadata": {},
   "outputs": [
    {
     "data": {
      "text/plain": [
       "True"
      ]
     },
     "execution_count": 99,
     "metadata": {},
     "output_type": "execute_result"
    }
   ],
   "source": [
    "'crops' in Agric_records"
   ]
  },
  {
   "cell_type": "code",
   "execution_count": null,
   "id": "000eb747",
   "metadata": {},
   "outputs": [],
   "source": [
    "#Assignment:\n",
    "# Create a list of 8 names and remove the name at the index of 4?\n",
    "# create a tuple of 6 names of cars and check for the index of each?\n",
    "# create a dictionary of 5 states of your choice and their capital?\n",
    "# From the dictionary created above check for the keys only?\n",
    "# From the dictionary created in question 3 access the value in the first key?"
   ]
  },
  {
   "cell_type": "code",
   "execution_count": 12,
   "id": "a7c27d98",
   "metadata": {},
   "outputs": [
    {
     "data": {
      "text/plain": [
       "['john', 'james', 'peter', 'mercy', 'amos', 'rose', 'ceciliA', 'agnes']"
      ]
     },
     "execution_count": 12,
     "metadata": {},
     "output_type": "execute_result"
    }
   ],
   "source": [
    "# creating of list of names:\n",
    "names = ['john','james','peter','mercy','amos','rose','ceciliA','agnes']\n",
    "names     "
   ]
  },
  {
   "cell_type": "code",
   "execution_count": 13,
   "id": "bd1f34c0",
   "metadata": {},
   "outputs": [
    {
     "data": {
      "text/plain": [
       "list"
      ]
     },
     "execution_count": 13,
     "metadata": {},
     "output_type": "execute_result"
    }
   ],
   "source": [
    "type(names)"
   ]
  },
  {
   "cell_type": "code",
   "execution_count": 24,
   "id": "cab541c5",
   "metadata": {},
   "outputs": [
    {
     "data": {
      "text/plain": [
       "4"
      ]
     },
     "execution_count": 24,
     "metadata": {},
     "output_type": "execute_result"
    }
   ],
   "source": [
    "# checking an item in a list using .index:\n",
    "names.index('amos')"
   ]
  },
  {
   "cell_type": "code",
   "execution_count": 25,
   "id": "c3cc43c2",
   "metadata": {},
   "outputs": [],
   "source": [
    "# Removing of an item from list using .remove()\n",
    "names.remove('amos')"
   ]
  },
  {
   "cell_type": "code",
   "execution_count": 26,
   "id": "198cee77",
   "metadata": {},
   "outputs": [
    {
     "data": {
      "text/plain": [
       "['john', 'james', 'peter', 'mercy', 'rose', 'ceciliA', 'agnes']"
      ]
     },
     "execution_count": 26,
     "metadata": {},
     "output_type": "execute_result"
    }
   ],
   "source": [
    "names"
   ]
  },
  {
   "cell_type": "code",
   "execution_count": 1,
   "id": "1b75c889",
   "metadata": {},
   "outputs": [],
   "source": [
    "# Tuple:\n",
    "Cars = ('toyota', 'lexus', 'kia', 'honda', 'golf', 'vibe')\n",
    "\n"
   ]
  },
  {
   "cell_type": "code",
   "execution_count": 2,
   "id": "12547063",
   "metadata": {},
   "outputs": [
    {
     "data": {
      "text/plain": [
       "('toyota', 'lexus', 'kia', 'honda', 'golf', 'vibe')"
      ]
     },
     "execution_count": 2,
     "metadata": {},
     "output_type": "execute_result"
    }
   ],
   "source": [
    "Cars"
   ]
  },
  {
   "cell_type": "code",
   "execution_count": 3,
   "id": "8c56e26a",
   "metadata": {},
   "outputs": [
    {
     "data": {
      "text/plain": [
       "0"
      ]
     },
     "execution_count": 3,
     "metadata": {},
     "output_type": "execute_result"
    }
   ],
   "source": [
    "# checking for the index using .index:\n",
    "Cars.index('toyota')"
   ]
  },
  {
   "cell_type": "code",
   "execution_count": 4,
   "id": "a491601a",
   "metadata": {},
   "outputs": [
    {
     "data": {
      "text/plain": [
       "1"
      ]
     },
     "execution_count": 4,
     "metadata": {},
     "output_type": "execute_result"
    }
   ],
   "source": [
    "Cars.index('lexus')"
   ]
  },
  {
   "cell_type": "code",
   "execution_count": 6,
   "id": "0465b1b2",
   "metadata": {},
   "outputs": [],
   "source": [
    "# creating dictionary of 5 state:\n",
    "state_capital = {'edo':'benin', 'benue':'makurdi', 'niger':'mina', 'nasaraw':'lafia', 'kogi':'lokoja'}"
   ]
  },
  {
   "cell_type": "code",
   "execution_count": 7,
   "id": "10da5409",
   "metadata": {},
   "outputs": [
    {
     "data": {
      "text/plain": [
       "{'edo': 'benin',\n",
       " 'benue': 'makurdi',\n",
       " 'niger': 'mina',\n",
       " 'nasaraw': 'lafia',\n",
       " 'kogi': 'lokoja'}"
      ]
     },
     "execution_count": 7,
     "metadata": {},
     "output_type": "execute_result"
    }
   ],
   "source": [
    "state_capital"
   ]
  },
  {
   "cell_type": "code",
   "execution_count": 8,
   "id": "8f8ed6d7",
   "metadata": {},
   "outputs": [
    {
     "data": {
      "text/plain": [
       "dict_keys(['edo', 'benue', 'niger', 'nasaraw', 'kogi'])"
      ]
     },
     "execution_count": 8,
     "metadata": {},
     "output_type": "execute_result"
    }
   ],
   "source": [
    "# checking for keys in dictionary\n",
    "state_capital.keys()\n"
   ]
  },
  {
   "cell_type": "code",
   "execution_count": 12,
   "id": "e63562eb",
   "metadata": {},
   "outputs": [
    {
     "data": {
      "text/plain": [
       "'benin'"
      ]
     },
     "execution_count": 12,
     "metadata": {},
     "output_type": "execute_result"
    }
   ],
   "source": [
    "# checking for value of first key:\n",
    "state_capital['edo']"
   ]
  },
  {
   "cell_type": "code",
   "execution_count": 15,
   "id": "0ab0ee3b",
   "metadata": {},
   "outputs": [
    {
     "data": {
      "text/plain": [
       "5"
      ]
     },
     "execution_count": 15,
     "metadata": {},
     "output_type": "execute_result"
    }
   ],
   "source": [
    "len(state_capital)"
   ]
  },
  {
   "cell_type": "code",
   "execution_count": 25,
   "id": "e23c67be",
   "metadata": {},
   "outputs": [
    {
     "ename": "TypeError",
     "evalue": "dict.values() takes no arguments (1 given)",
     "output_type": "error",
     "traceback": [
      "\u001b[1;31m---------------------------------------------------------------------------\u001b[0m",
      "\u001b[1;31mTypeError\u001b[0m                                 Traceback (most recent call last)",
      "\u001b[1;32m~\\AppData\\Local\\Temp/ipykernel_6756/3928537301.py\u001b[0m in \u001b[0;36m<module>\u001b[1;34m\u001b[0m\n\u001b[1;32m----> 1\u001b[1;33m \u001b[0mstate_capital\u001b[0m\u001b[1;33m.\u001b[0m\u001b[0mvalues\u001b[0m\u001b[1;33m(\u001b[0m\u001b[1;34m'edo'\u001b[0m\u001b[1;33m)\u001b[0m\u001b[1;33m\u001b[0m\u001b[1;33m\u001b[0m\u001b[0m\n\u001b[0m",
      "\u001b[1;31mTypeError\u001b[0m: dict.values() takes no arguments (1 given)"
     ]
    }
   ],
   "source": [
    "\n"
   ]
  },
  {
   "cell_type": "code",
   "execution_count": null,
   "id": "0f1203f9",
   "metadata": {},
   "outputs": [],
   "source": []
  }
 ],
 "metadata": {
  "kernelspec": {
   "display_name": "Python 3 (ipykernel)",
   "language": "python",
   "name": "python3"
  },
  "language_info": {
   "codemirror_mode": {
    "name": "ipython",
    "version": 3
   },
   "file_extension": ".py",
   "mimetype": "text/x-python",
   "name": "python",
   "nbconvert_exporter": "python",
   "pygments_lexer": "ipython3",
   "version": "3.9.7"
  }
 },
 "nbformat": 4,
 "nbformat_minor": 5
}
