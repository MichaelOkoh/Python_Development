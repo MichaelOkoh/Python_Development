{
 "cells": [
  {
   "cell_type": "code",
   "execution_count": 2,
   "id": "f2c18bbe",
   "metadata": {},
   "outputs": [
    {
     "name": "stdout",
     "output_type": "stream",
     "text": [
      "this data is not a digit\n"
     ]
    }
   ],
   "source": [
    "# Conditional statement:\n",
    "\n",
    "data = '1234'\n",
    "\n",
    "# creating a conditional statement to check if a data contain only digit:\n",
    "if data.isdigit():\n",
    "    print('this data is a digit')\n",
    "else:\n",
    "    print ('this data is not a digit')\n",
    "\n"
   ]
  },
  {
   "cell_type": "code",
   "execution_count": 5,
   "id": "1c63f546",
   "metadata": {},
   "outputs": [
    {
     "name": "stdout",
     "output_type": "stream",
     "text": [
      "enter your email\n",
      "michael\n",
      "enter your password\n",
      "oche\n",
      "invalid records\n"
     ]
    }
   ],
   "source": [
    "email = 'michael@gmail.com'\n",
    "password = 'oche'\n",
    "\n",
    "email1 =input ('enter your email\\n')\n",
    "password1 = input('enter your password\\n')\n",
    "\n",
    "if email1==email and password1==password:\n",
    "    print('you are welcome')\n",
    "else:\n",
    "    print('invalid records')"
   ]
  },
  {
   "cell_type": "code",
   "execution_count": 7,
   "id": "87c6cfa1",
   "metadata": {},
   "outputs": [
    {
     "name": "stdout",
     "output_type": "stream",
     "text": [
      "enter your name\n",
      "Michael\n",
      "welcome Michael\n",
      "enter your passwordoche\n",
      "welcome to your dashboard\n"
     ]
    }
   ],
   "source": [
    "user = 'Michael'\n",
    "password = 'oche'\n",
    "\n",
    "# creating an input called user1 to collect username:\n",
    "\n",
    "user1 = input ('enter your name\\n')\n",
    "# checking if the username inputed match:\n",
    "if user1==user:\n",
    "    #indicating to the user:\n",
    "    print(f'welcome {user1}')\n",
    "    # creating an input called password\"\n",
    "    password1 = input('enter your password')\n",
    "    # checking if the password inputed match:\n",
    "    if password1==password:\n",
    "        print('welcome to your dashboard')\n",
    "    else:\n",
    "        print('incorrect password')\n",
    "else:\n",
    "    print(f'username: {user1} not found')\n"
   ]
  },
  {
   "cell_type": "code",
   "execution_count": 12,
   "id": "94f319ce",
   "metadata": {},
   "outputs": [
    {
     "name": "stdout",
     "output_type": "stream",
     "text": [
      "enter your score\n",
      "27\n",
      "invalid score\n"
     ]
    }
   ],
   "source": [
    "# creating a grading software\n",
    "\n",
    "score = int(input('enter your score\\n'))\n",
    "if score>=0 and score <=10:\n",
    "    print('failed')\n",
    "elif score>10 and score <=15:\n",
    "    print('pass')\n",
    "elif score > 15 and score <=20:\n",
    "    print('Good')\n",
    "elif score >20 and score <= 25:\n",
    "    print('Excellent')\n",
    "else:\n",
    "    print('invalid score')\n",
    "    "
   ]
  },
  {
   "cell_type": "code",
   "execution_count": null,
   "id": "72a27308",
   "metadata": {},
   "outputs": [],
   "source": [
    "# assignment\n",
    "# using conditional statement create a sign up and the login alogithmn for an email?\n",
    "# while checking if the email in the login matches the sign up"
   ]
  },
  {
   "cell_type": "code",
   "execution_count": null,
   "id": "980241b1",
   "metadata": {},
   "outputs": [],
   "source": [
    "email = input('Create Your Email\\n')\n",
    "password = input('Create Your Password\\n')\n",
    "print('Account Created')\n",
    "user = input('your email address\\n')\n",
    "password = input('your password')\n",
    "print('sign up')"
   ]
  },
  {
   "cell_type": "code",
   "execution_count": 1,
   "id": "28dae1af",
   "metadata": {},
   "outputs": [
    {
     "name": "stdout",
     "output_type": "stream",
     "text": [
      "your email address\n",
      "wilkisvictor@gmsil.com\n",
      "your passwordVictor\n",
      "sign up\n"
     ]
    }
   ],
   "source": [
    "\n"
   ]
  },
  {
   "cell_type": "code",
   "execution_count": null,
   "id": "686177b6",
   "metadata": {},
   "outputs": [],
   "source": []
  }
 ],
 "metadata": {
  "kernelspec": {
   "display_name": "Python 3 (ipykernel)",
   "language": "python",
   "name": "python3"
  },
  "language_info": {
   "codemirror_mode": {
    "name": "ipython",
    "version": 3
   },
   "file_extension": ".py",
   "mimetype": "text/x-python",
   "name": "python",
   "nbconvert_exporter": "python",
   "pygments_lexer": "ipython3",
   "version": "3.9.7"
  }
 },
 "nbformat": 4,
 "nbformat_minor": 5
}
