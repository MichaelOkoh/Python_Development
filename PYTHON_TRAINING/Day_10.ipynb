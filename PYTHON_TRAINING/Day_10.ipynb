{
 "cells": [
  {
   "cell_type": "code",
   "execution_count": 1,
   "id": "98846478",
   "metadata": {},
   "outputs": [],
   "source": [
    "# Map, Filter and Lambda:"
   ]
  },
  {
   "cell_type": "code",
   "execution_count": 2,
   "id": "8514de19",
   "metadata": {},
   "outputs": [],
   "source": [
    "# Map:"
   ]
  },
  {
   "cell_type": "code",
   "execution_count": 3,
   "id": "2f12db05",
   "metadata": {},
   "outputs": [],
   "source": [
    "\n",
    "data =  [23,45,66,78,88]\n"
   ]
  },
  {
   "cell_type": "code",
   "execution_count": 5,
   "id": "56aaa369",
   "metadata": {},
   "outputs": [],
   "source": [
    "def multply(val):\n",
    "    return val*2\n",
    "    "
   ]
  },
  {
   "cell_type": "code",
   "execution_count": 6,
   "id": "e5659e73",
   "metadata": {},
   "outputs": [
    {
     "data": {
      "text/plain": [
       "[46, 90, 132, 156, 176]"
      ]
     },
     "execution_count": 6,
     "metadata": {},
     "output_type": "execute_result"
    }
   ],
   "source": [
    "list(map(multply,data))"
   ]
  },
  {
   "cell_type": "code",
   "execution_count": null,
   "id": "d7f46c6f",
   "metadata": {},
   "outputs": [],
   "source": []
  },
  {
   "cell_type": "code",
   "execution_count": 7,
   "id": "b0fcf99b",
   "metadata": {},
   "outputs": [],
   "source": [
    "# FILTER"
   ]
  },
  {
   "cell_type": "code",
   "execution_count": 8,
   "id": "6960173b",
   "metadata": {},
   "outputs": [],
   "source": [
    "scores = [\n",
    "    [3,2,0],\n",
    "    [3,3,3],\n",
    "    [2,2,2]\n",
    "]"
   ]
  },
  {
   "cell_type": "code",
   "execution_count": 9,
   "id": "e555c0f7",
   "metadata": {},
   "outputs": [],
   "source": [
    "def aggregate(score):\n",
    "    return sum(score)==9\n",
    "    "
   ]
  },
  {
   "cell_type": "code",
   "execution_count": 10,
   "id": "ce4d4c0e",
   "metadata": {},
   "outputs": [
    {
     "data": {
      "text/plain": [
       "[[3, 3, 3]]"
      ]
     },
     "execution_count": 10,
     "metadata": {},
     "output_type": "execute_result"
    }
   ],
   "source": [
    "list(filter(aggregate,scores))"
   ]
  },
  {
   "cell_type": "code",
   "execution_count": 11,
   "id": "228ab6e7",
   "metadata": {},
   "outputs": [],
   "source": [
    "#lambda:\n"
   ]
  },
  {
   "cell_type": "code",
   "execution_count": 13,
   "id": "436c0b6f",
   "metadata": {},
   "outputs": [
    {
     "data": {
      "text/plain": [
       "[66, 78, 88]"
      ]
     },
     "execution_count": 13,
     "metadata": {},
     "output_type": "execute_result"
    }
   ],
   "source": [
    "list(filter(lambda num:num%2==0, data))"
   ]
  },
  {
   "cell_type": "code",
   "execution_count": 15,
   "id": "960137dc",
   "metadata": {},
   "outputs": [],
   "source": [
    "# Assignment\n",
    "# convert the following grams to kilogram:\n",
    "# gm= [1000,2000,5000,10000] using function and map."
   ]
  },
  {
   "cell_type": "code",
   "execution_count": 16,
   "id": "b5e6a7fc",
   "metadata": {},
   "outputs": [],
   "source": []
  },
  {
   "cell_type": "code",
   "execution_count": null,
   "id": "913ee1d2",
   "metadata": {},
   "outputs": [],
   "source": []
  }
 ],
 "metadata": {
  "kernelspec": {
   "display_name": "Python 3 (ipykernel)",
   "language": "python",
   "name": "python3"
  },
  "language_info": {
   "codemirror_mode": {
    "name": "ipython",
    "version": 3
   },
   "file_extension": ".py",
   "mimetype": "text/x-python",
   "name": "python",
   "nbconvert_exporter": "python",
   "pygments_lexer": "ipython3",
   "version": "3.9.7"
  }
 },
 "nbformat": 4,
 "nbformat_minor": 5
}
