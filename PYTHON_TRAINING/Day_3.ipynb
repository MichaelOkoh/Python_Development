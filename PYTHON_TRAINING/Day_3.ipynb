{
 "cells": [
  {
   "cell_type": "code",
   "execution_count": 1,
   "id": "92366ef9",
   "metadata": {},
   "outputs": [],
   "source": [
    "# types of operators\n",
    "\n",
    "# Arithementic operators: are: +,-,*,/\n",
    "# Assignment operator: =   \n",
    "# Comparison Operatos: or, and \n",
    "# Logical Operators: <, >, >=, <=\n",
    "# Membership operators: in\n"
   ]
  },
  {
   "cell_type": "code",
   "execution_count": 1,
   "id": "0d0ddf6b",
   "metadata": {},
   "outputs": [
    {
     "data": {
      "text/plain": [
       "18"
      ]
     },
     "execution_count": 1,
     "metadata": {},
     "output_type": "execute_result"
    }
   ],
   "source": [
    "# Random Numbers:\n",
    "\n",
    "#importing random libraries or modules:\n",
    "import random\n",
    "# selecting randrage inside random modules:\n",
    "random.randrange(10,20)"
   ]
  },
  {
   "cell_type": "code",
   "execution_count": 8,
   "id": "210e7da6",
   "metadata": {},
   "outputs": [
    {
     "data": {
      "text/plain": [
       "'michael12'"
      ]
     },
     "execution_count": 8,
     "metadata": {},
     "output_type": "execute_result"
    }
   ],
   "source": [
    "# concatenation of string + random numbers: \n",
    "import random\n",
    "num =random.randrange(10,20)\n",
    "'michael' + str(num) #concatenating string + random numbers"
   ]
  },
  {
   "cell_type": "code",
   "execution_count": 11,
   "id": "09e1d7ed",
   "metadata": {},
   "outputs": [
    {
     "data": {
      "text/plain": [
       "'1515'"
      ]
     },
     "execution_count": 11,
     "metadata": {},
     "output_type": "execute_result"
    }
   ],
   "source": [
    "# concatenating of random numbers + random numbers:\n",
    "import random\n",
    "num = random.randrange(10,20)\n",
    "str(num) + str(num)"
   ]
  },
  {
   "cell_type": "code",
   "execution_count": 13,
   "id": "99e9aec6",
   "metadata": {},
   "outputs": [
    {
     "name": "stdout",
     "output_type": "stream",
     "text": [
      "enter your first name\n",
      "Michael\n"
     ]
    },
    {
     "data": {
      "text/plain": [
       "'Michael'"
      ]
     },
     "execution_count": 13,
     "metadata": {},
     "output_type": "execute_result"
    }
   ],
   "source": [
    "input('enter your first name\\n')"
   ]
  },
  {
   "cell_type": "code",
   "execution_count": 4,
   "id": "45046dff",
   "metadata": {},
   "outputs": [
    {
     "data": {
      "text/plain": [
       "1632938593"
      ]
     },
     "execution_count": 4,
     "metadata": {},
     "output_type": "execute_result"
    }
   ],
   "source": [
    "# generate a random numbers of 10 digits\n",
    "#concatenate your first name as a varable with random numbers of 4 digits?\n",
    "# concatenate a string called UTME with an integer called 2023 and a random number of 2 digits?\n",
    "# create an input that collect the full names of a user using the formatting next line?\n",
    "\n",
    "# answers:\n",
    "\n",
    "\n",
    "\n",
    "\n"
   ]
  },
  {
   "cell_type": "code",
   "execution_count": 4,
   "id": "fbbe168c",
   "metadata": {},
   "outputs": [],
   "source": [
    "\n",
    "# random numbers:\n",
    "import random\n",
    "num = random.randrange(10000,30000)"
   ]
  },
  {
   "cell_type": "code",
   "execution_count": 5,
   "id": "8b7fadc3",
   "metadata": {},
   "outputs": [
    {
     "data": {
      "text/plain": [
       "16632"
      ]
     },
     "execution_count": 5,
     "metadata": {},
     "output_type": "execute_result"
    }
   ],
   "source": [
    "num"
   ]
  },
  {
   "cell_type": "code",
   "execution_count": 7,
   "id": "5184190c",
   "metadata": {},
   "outputs": [
    {
     "data": {
      "text/plain": [
       "'michael16632'"
      ]
     },
     "execution_count": 7,
     "metadata": {},
     "output_type": "execute_result"
    }
   ],
   "source": [
    "#concanating of variable with random numbers of 4 digits:\n",
    "'michael' + str(num)\n"
   ]
  },
  {
   "cell_type": "code",
   "execution_count": 11,
   "id": "593bcced",
   "metadata": {},
   "outputs": [],
   "source": [
    "# rand numbers:\n",
    "import random\n",
    "num1 = random.randrange(40,50)"
   ]
  },
  {
   "cell_type": "code",
   "execution_count": 9,
   "id": "5ac1752f",
   "metadata": {},
   "outputs": [
    {
     "data": {
      "text/plain": [
       "49"
      ]
     },
     "execution_count": 9,
     "metadata": {},
     "output_type": "execute_result"
    }
   ],
   "source": [
    "num"
   ]
  },
  {
   "cell_type": "code",
   "execution_count": 13,
   "id": "83804306",
   "metadata": {},
   "outputs": [
    {
     "data": {
      "text/plain": [
       "'UTME 2023 49'"
      ]
     },
     "execution_count": 13,
     "metadata": {},
     "output_type": "execute_result"
    }
   ],
   "source": [
    "# Concanating of string with integer and random number of 2 digits:\n",
    "'UTME ' + '2023 '+ str(num1)"
   ]
  },
  {
   "cell_type": "code",
   "execution_count": null,
   "id": "e95f91be",
   "metadata": {},
   "outputs": [],
   "source": [
    "input('Enter your full names\\n')\n"
   ]
  },
  {
   "cell_type": "code",
   "execution_count": null,
   "id": "42ccce40",
   "metadata": {},
   "outputs": [],
   "source": []
  }
 ],
 "metadata": {
  "kernelspec": {
   "display_name": "Python 3 (ipykernel)",
   "language": "python",
   "name": "python3"
  },
  "language_info": {
   "codemirror_mode": {
    "name": "ipython",
    "version": 3
   },
   "file_extension": ".py",
   "mimetype": "text/x-python",
   "name": "python",
   "nbconvert_exporter": "python",
   "pygments_lexer": "ipython3",
   "version": "3.9.7"
  }
 },
 "nbformat": 4,
 "nbformat_minor": 5
}
