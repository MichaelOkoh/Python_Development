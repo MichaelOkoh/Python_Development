{
 "cells": [
  {
   "cell_type": "code",
   "execution_count": 7,
   "id": "1b7b6359",
   "metadata": {},
   "outputs": [],
   "source": [
    "def addition(num1,num2):\n",
    "    data= num1 + num2\n",
    "    return data"
   ]
  },
  {
   "cell_type": "code",
   "execution_count": 8,
   "id": "a2e729af",
   "metadata": {},
   "outputs": [
    {
     "data": {
      "text/plain": [
       "4"
      ]
     },
     "execution_count": 8,
     "metadata": {},
     "output_type": "execute_result"
    }
   ],
   "source": [
    "addition(1,3)"
   ]
  },
  {
   "cell_type": "code",
   "execution_count": 9,
   "id": "b94cf7fe",
   "metadata": {},
   "outputs": [],
   "source": [
    "def addition(*args):\n",
    "    return sum(args)"
   ]
  },
  {
   "cell_type": "code",
   "execution_count": 11,
   "id": "4ea9831f",
   "metadata": {},
   "outputs": [
    {
     "data": {
      "text/plain": [
       "303"
      ]
     },
     "execution_count": 11,
     "metadata": {},
     "output_type": "execute_result"
    }
   ],
   "source": [
    "addition(23,23,45,56,67,89) "
   ]
  },
  {
   "cell_type": "code",
   "execution_count": 12,
   "id": "808f930a",
   "metadata": {},
   "outputs": [],
   "source": [
    "def avg(*args):\n",
    "    return sum(args)/len(args)"
   ]
  },
  {
   "cell_type": "code",
   "execution_count": 13,
   "id": "180b7af7",
   "metadata": {},
   "outputs": [
    {
     "data": {
      "text/plain": [
       "45.0"
      ]
     },
     "execution_count": 13,
     "metadata": {},
     "output_type": "execute_result"
    }
   ],
   "source": [
    "avg(23,45,67)"
   ]
  },
  {
   "cell_type": "code",
   "execution_count": 14,
   "id": "9468e19d",
   "metadata": {},
   "outputs": [],
   "source": [
    "def item_data(**kwargs):\n",
    "    return (kwargs)"
   ]
  },
  {
   "cell_type": "code",
   "execution_count": 15,
   "id": "bc6b2e15",
   "metadata": {},
   "outputs": [
    {
     "data": {
      "text/plain": [
       "{'a': 'mangos', 'b': 'apple', 'c': 'oranges', 'd': 'pawpaw'}"
      ]
     },
     "execution_count": 15,
     "metadata": {},
     "output_type": "execute_result"
    }
   ],
   "source": [
    "item_data(a='mangos', b='apple', c='oranges', d='pawpaw')"
   ]
  },
  {
   "cell_type": "code",
   "execution_count": 16,
   "id": "747a02ec",
   "metadata": {},
   "outputs": [],
   "source": [
    "# Tuple unpacking\n",
    "\n",
    "def greet(values):\n",
    "    global v\n",
    "    v=45\n",
    "    print(f'you are welcome {values} and v is {v}')"
   ]
  },
  {
   "cell_type": "code",
   "execution_count": 17,
   "id": "54f7bd3e",
   "metadata": {},
   "outputs": [
    {
     "name": "stdout",
     "output_type": "stream",
     "text": [
      "you are welcome victor and v is 45\n"
     ]
    }
   ],
   "source": [
    "greet('victor')"
   ]
  },
  {
   "cell_type": "code",
   "execution_count": null,
   "id": "5474855e",
   "metadata": {},
   "outputs": [],
   "source": [
    "# Assignment 2:\n",
    "# Using *args create a function that calculate the sum of total sales and deduct the VAT\n",
    "# of 7.5% from the total sales.\n",
    "# print the total sales made and the VAT to pay"
   ]
  }
 ],
 "metadata": {
  "kernelspec": {
   "display_name": "Python 3 (ipykernel)",
   "language": "python",
   "name": "python3"
  },
  "language_info": {
   "codemirror_mode": {
    "name": "ipython",
    "version": 3
   },
   "file_extension": ".py",
   "mimetype": "text/x-python",
   "name": "python",
   "nbconvert_exporter": "python",
   "pygments_lexer": "ipython3",
   "version": "3.9.7"
  }
 },
 "nbformat": 4,
 "nbformat_minor": 5
}
