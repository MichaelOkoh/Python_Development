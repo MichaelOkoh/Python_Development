{
 "cells": [
  {
   "cell_type": "code",
   "execution_count": 1,
   "id": "1eed2761",
   "metadata": {},
   "outputs": [
    {
     "name": "stdout",
     "output_type": "stream",
     "text": [
      "create yahoo address\n",
      "oche@yahoo.com\n",
      "next password\n",
      "create password\n",
      "12345\n",
      "account created\n",
      "enter email addoche@yahoo.com\n",
      "enter password12345\n",
      "welcome to dashboard\n"
     ]
    }
   ],
   "source": [
    "# creating a conditional statemen using logical term and:\n",
    "\n",
    "email = input('create yahoo address\\n')\n",
    "if 'yahoo.com' in email:\n",
    "    print('next password')\n",
    "password= input('create password\\n')\n",
    "print('account created')\n",
    "email= input('enter email add')\n",
    "password = input('enter password')\n",
    "if 'yahoo' in email and '12345' in password: #conditional statement\n",
    "    print('welcome to dashboard')\n",
    "    "
   ]
  },
  {
   "cell_type": "code",
   "execution_count": null,
   "id": "4c50a0e8",
   "metadata": {},
   "outputs": [],
   "source": []
  },
  {
   "cell_type": "code",
   "execution_count": null,
   "id": "ffa00cb8",
   "metadata": {},
   "outputs": [],
   "source": []
  }
 ],
 "metadata": {
  "kernelspec": {
   "display_name": "Python 3 (ipykernel)",
   "language": "python",
   "name": "python3"
  },
  "language_info": {
   "codemirror_mode": {
    "name": "ipython",
    "version": 3
   },
   "file_extension": ".py",
   "mimetype": "text/x-python",
   "name": "python",
   "nbconvert_exporter": "python",
   "pygments_lexer": "ipython3",
   "version": "3.9.7"
  }
 },
 "nbformat": 4,
 "nbformat_minor": 5
}
